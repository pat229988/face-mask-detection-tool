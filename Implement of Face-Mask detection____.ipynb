{
 "cells": [
  {
   "cell_type": "markdown",
   "id": "da95945f",
   "metadata": {},
   "source": [
    "# Real-Time Face Mask Detection"
   ]
  },
  {
   "cell_type": "markdown",
   "id": "882fbf73",
   "metadata": {},
   "source": [
    "### Import all the libraries and modules required."
   ]
  },
  {
   "cell_type": "code",
   "execution_count": 2,
   "id": "f99940da",
   "metadata": {},
   "outputs": [],
   "source": [
    "from tensorflow import keras\n",
    "from keras.models import Sequential\n",
    "from keras.layers import Conv2D, Input, ZeroPadding2D, BatchNormalization, Activation, MaxPooling2D, Flatten, Dense, Dropout\n",
    "from tensorflow.keras import optimizers\n",
    "\n",
    "from keras.preprocessing.image import ImageDataGenerator\n",
    "from keras.callbacks import TensorBoard, ModelCheckpoint\n",
    "\n",
    "from keras.models import Model, load_model\n",
    "from sklearn.model_selection import train_test_split\n",
    "from sklearn.metrics import f1_score\n",
    "from sklearn.utils import shuffle\n",
    "import imutils\n",
    "import numpy as np\n",
    "import cv2"
   ]
  },
  {
   "cell_type": "markdown",
   "id": "584ea7a7",
   "metadata": {},
   "source": [
    "### Build the neural network"
   ]
  },
  {
   "cell_type": "code",
   "execution_count": 3,
   "id": "43b0cec5",
   "metadata": {},
   "outputs": [],
   "source": [
    "model = Sequential([\n",
    "    Conv2D(256, (3,3), activation='tanh', input_shape=(150, 150, 3)),\n",
    "    MaxPooling2D(2,2),\n",
    "    Conv2D(128, (3,3), activation='relu'),\n",
    "    MaxPooling2D(2,2),\n",
    "    Dropout(0.1),\n",
    "    Conv2D(64, (3,3), activation='relu'),\n",
    "    MaxPooling2D(2,2),\n",
    "    Dropout(0.1),\n",
    "    Flatten(),\n",
    "    Dense(32, activation='relu'),\n",
    "    Dense(2, activation='softmax')\n",
    "])\n",
    "model.compile(optimizer='adam', loss='binary_crossentropy', metrics=['acc'])\n",
    "# model.compile(optimizer='adam', loss='categorical_crossentropy', metrics=['acc'])"
   ]
  },
  {
   "cell_type": "markdown",
   "id": "dbee653d",
   "metadata": {},
   "source": [
    "### Image Data Generation/Augmentation"
   ]
  },
  {
   "cell_type": "code",
   "execution_count": 4,
   "id": "71262266",
   "metadata": {},
   "outputs": [
    {
     "name": "stdout",
     "output_type": "stream",
     "text": [
      "Found 4301 images belonging to 2 classes.\n",
      "Found 1590 images belonging to 2 classes.\n"
     ]
    }
   ],
   "source": [
    "# C:\\Users\\prati\\Desktop\\python project face mask tool\\dataset\\face-mask\\Train\n",
    "TRAINING_DIR = r\"C:\\Users\\prati\\Desktop\\python project face mask tool\\dataset\\face-mask\\Train\"\n",
    "train_datagen = ImageDataGenerator(rescale=1.0/255,\n",
    "                                   rotation_range=40,\n",
    "                                   width_shift_range=0.2,\n",
    "                                   height_shift_range=0.2,\n",
    "                                   shear_range=0.2,\n",
    "                                   zoom_range=0.2,\n",
    "                                   horizontal_flip=True,\n",
    "                                   fill_mode='nearest')\n",
    "\n",
    "train_generator = train_datagen.flow_from_directory(TRAINING_DIR, \n",
    "                                                    batch_size=32, \n",
    "                                                    target_size=(150, 150))\n",
    "VALIDATION_DIR = r\"C:\\Users\\prati\\Desktop\\python project face mask tool\\dataset\\face-mask\\Test\"\n",
    "validation_datagen = ImageDataGenerator(rescale=1.0/255)\n",
    "\n",
    "validation_generator = validation_datagen.flow_from_directory(VALIDATION_DIR,\n",
    "                                                         batch_size=32, \n",
    "                                                         target_size=(150, 150))"
   ]
  },
  {
   "cell_type": "markdown",
   "id": "a4acbe27",
   "metadata": {},
   "source": [
    "### Initialize a callback checkpoint to keep saving best model after each epoch while training:"
   ]
  },
  {
   "cell_type": "code",
   "execution_count": 4,
   "id": "10f30935",
   "metadata": {},
   "outputs": [],
   "source": [
    "checkpoint = ModelCheckpoint('.\\model3lyr\\mask_model-{epoch:03d}.model',monitor='val_loss',verbose=0,save_best_only=True,mode='auto')"
   ]
  },
  {
   "cell_type": "markdown",
   "id": "1c415b05",
   "metadata": {},
   "source": [
    "### Train the model: "
   ]
  },
  {
   "cell_type": "code",
   "execution_count": 5,
   "id": "5542c54d",
   "metadata": {},
   "outputs": [
    {
     "name": "stdout",
     "output_type": "stream",
     "text": [
      "Epoch 1/10\n",
      " 19/135 [===>..........................] - ETA: 1:07 - loss: 0.7152 - acc: 0.5510"
     ]
    },
    {
     "name": "stderr",
     "output_type": "stream",
     "text": [
      "D:\\ProgramData\\Anaconda3\\envs\\tflow-gpu\\lib\\site-packages\\PIL\\Image.py:959: UserWarning: Palette images with Transparency expressed in bytes should be converted to RGBA images\n",
      "  warnings.warn(\n"
     ]
    },
    {
     "name": "stdout",
     "output_type": "stream",
     "text": [
      "135/135 [==============================] - ETA: 0s - loss: 0.5132 - acc: 0.7449"
     ]
    },
    {
     "name": "stderr",
     "output_type": "stream",
     "text": [
      "WARNING:absl:Found untraced functions such as _jit_compiled_convolution_op, _jit_compiled_convolution_op, _jit_compiled_convolution_op while saving (showing 3 of 3). These functions will not be directly callable after loading.\n"
     ]
    },
    {
     "name": "stdout",
     "output_type": "stream",
     "text": [
      "INFO:tensorflow:Assets written to: .\\model1101\\mask_model-001.model\\assets\n"
     ]
    },
    {
     "name": "stderr",
     "output_type": "stream",
     "text": [
      "INFO:tensorflow:Assets written to: .\\model1101\\mask_model-001.model\\assets\n"
     ]
    },
    {
     "name": "stdout",
     "output_type": "stream",
     "text": [
      "135/135 [==============================] - 119s 783ms/step - loss: 0.5132 - acc: 0.7449 - val_loss: 0.2134 - val_acc: 0.9352\n",
      "Epoch 2/10\n",
      "  3/135 [..............................] - ETA: 1:21 - loss: 0.3595 - acc: 0.8646"
     ]
    },
    {
     "name": "stderr",
     "output_type": "stream",
     "text": [
      "D:\\ProgramData\\Anaconda3\\envs\\tflow-gpu\\lib\\site-packages\\PIL\\Image.py:959: UserWarning: Palette images with Transparency expressed in bytes should be converted to RGBA images\n",
      "  warnings.warn(\n"
     ]
    },
    {
     "name": "stdout",
     "output_type": "stream",
     "text": [
      "135/135 [==============================] - ETA: 0s - loss: 0.3710 - acc: 0.8498"
     ]
    },
    {
     "name": "stderr",
     "output_type": "stream",
     "text": [
      "WARNING:absl:Found untraced functions such as _jit_compiled_convolution_op, _jit_compiled_convolution_op, _jit_compiled_convolution_op while saving (showing 3 of 3). These functions will not be directly callable after loading.\n"
     ]
    },
    {
     "name": "stdout",
     "output_type": "stream",
     "text": [
      "INFO:tensorflow:Assets written to: .\\model1101\\mask_model-002.model\\assets\n"
     ]
    },
    {
     "name": "stderr",
     "output_type": "stream",
     "text": [
      "INFO:tensorflow:Assets written to: .\\model1101\\mask_model-002.model\\assets\n"
     ]
    },
    {
     "name": "stdout",
     "output_type": "stream",
     "text": [
      "135/135 [==============================] - 108s 796ms/step - loss: 0.3710 - acc: 0.8498 - val_loss: 0.1962 - val_acc: 0.9371\n",
      "Epoch 3/10\n",
      " 86/135 [==================>...........] - ETA: 31s - loss: 0.3552 - acc: 0.8594"
     ]
    },
    {
     "name": "stderr",
     "output_type": "stream",
     "text": [
      "D:\\ProgramData\\Anaconda3\\envs\\tflow-gpu\\lib\\site-packages\\PIL\\Image.py:959: UserWarning: Palette images with Transparency expressed in bytes should be converted to RGBA images\n",
      "  warnings.warn(\n"
     ]
    },
    {
     "name": "stdout",
     "output_type": "stream",
     "text": [
      "135/135 [==============================] - 93s 681ms/step - loss: 0.3493 - acc: 0.8612 - val_loss: 0.2183 - val_acc: 0.9164\n",
      "Epoch 4/10\n",
      "135/135 [==============================] - ETA: 0s - loss: 0.3437 - acc: 0.8638"
     ]
    },
    {
     "name": "stderr",
     "output_type": "stream",
     "text": [
      "WARNING:absl:Found untraced functions such as _jit_compiled_convolution_op, _jit_compiled_convolution_op, _jit_compiled_convolution_op while saving (showing 3 of 3). These functions will not be directly callable after loading.\n"
     ]
    },
    {
     "name": "stdout",
     "output_type": "stream",
     "text": [
      "INFO:tensorflow:Assets written to: .\\model1101\\mask_model-004.model\\assets\n"
     ]
    },
    {
     "name": "stderr",
     "output_type": "stream",
     "text": [
      "INFO:tensorflow:Assets written to: .\\model1101\\mask_model-004.model\\assets\n"
     ]
    },
    {
     "name": "stdout",
     "output_type": "stream",
     "text": [
      "135/135 [==============================] - 99s 736ms/step - loss: 0.3437 - acc: 0.8638 - val_loss: 0.1917 - val_acc: 0.9547\n",
      "Epoch 5/10\n",
      " 28/135 [=====>........................] - ETA: 1:11 - loss: 0.3194 - acc: 0.8694"
     ]
    },
    {
     "name": "stderr",
     "output_type": "stream",
     "text": [
      "D:\\ProgramData\\Anaconda3\\envs\\tflow-gpu\\lib\\site-packages\\PIL\\Image.py:959: UserWarning: Palette images with Transparency expressed in bytes should be converted to RGBA images\n",
      "  warnings.warn(\n"
     ]
    },
    {
     "name": "stdout",
     "output_type": "stream",
     "text": [
      "135/135 [==============================] - ETA: 0s - loss: 0.3209 - acc: 0.8726"
     ]
    },
    {
     "name": "stderr",
     "output_type": "stream",
     "text": [
      "WARNING:absl:Found untraced functions such as _jit_compiled_convolution_op, _jit_compiled_convolution_op, _jit_compiled_convolution_op while saving (showing 3 of 3). These functions will not be directly callable after loading.\n"
     ]
    },
    {
     "name": "stdout",
     "output_type": "stream",
     "text": [
      "INFO:tensorflow:Assets written to: .\\model1101\\mask_model-005.model\\assets\n"
     ]
    },
    {
     "name": "stderr",
     "output_type": "stream",
     "text": [
      "INFO:tensorflow:Assets written to: .\\model1101\\mask_model-005.model\\assets\n"
     ]
    },
    {
     "name": "stdout",
     "output_type": "stream",
     "text": [
      "135/135 [==============================] - 101s 748ms/step - loss: 0.3209 - acc: 0.8726 - val_loss: 0.1876 - val_acc: 0.9465\n",
      "Epoch 6/10\n",
      " 33/135 [======>.......................] - ETA: 1:03 - loss: 0.3149 - acc: 0.8785"
     ]
    },
    {
     "name": "stderr",
     "output_type": "stream",
     "text": [
      "D:\\ProgramData\\Anaconda3\\envs\\tflow-gpu\\lib\\site-packages\\PIL\\Image.py:959: UserWarning: Palette images with Transparency expressed in bytes should be converted to RGBA images\n",
      "  warnings.warn(\n"
     ]
    },
    {
     "name": "stdout",
     "output_type": "stream",
     "text": [
      "135/135 [==============================] - ETA: 0s - loss: 0.3235 - acc: 0.8751"
     ]
    },
    {
     "name": "stderr",
     "output_type": "stream",
     "text": [
      "WARNING:absl:Found untraced functions such as _jit_compiled_convolution_op, _jit_compiled_convolution_op, _jit_compiled_convolution_op while saving (showing 3 of 3). These functions will not be directly callable after loading.\n"
     ]
    },
    {
     "name": "stdout",
     "output_type": "stream",
     "text": [
      "INFO:tensorflow:Assets written to: .\\model1101\\mask_model-006.model\\assets\n"
     ]
    },
    {
     "name": "stderr",
     "output_type": "stream",
     "text": [
      "INFO:tensorflow:Assets written to: .\\model1101\\mask_model-006.model\\assets\n"
     ]
    },
    {
     "name": "stdout",
     "output_type": "stream",
     "text": [
      "135/135 [==============================] - 99s 733ms/step - loss: 0.3235 - acc: 0.8751 - val_loss: 0.1660 - val_acc: 0.9547\n",
      "Epoch 7/10\n",
      " 10/135 [=>............................] - ETA: 1:19 - loss: 0.3165 - acc: 0.8687"
     ]
    },
    {
     "name": "stderr",
     "output_type": "stream",
     "text": [
      "D:\\ProgramData\\Anaconda3\\envs\\tflow-gpu\\lib\\site-packages\\PIL\\Image.py:959: UserWarning: Palette images with Transparency expressed in bytes should be converted to RGBA images\n",
      "  warnings.warn(\n"
     ]
    },
    {
     "name": "stdout",
     "output_type": "stream",
     "text": [
      "135/135 [==============================] - 92s 677ms/step - loss: 0.3063 - acc: 0.8754 - val_loss: 0.2210 - val_acc: 0.9491\n",
      "Epoch 8/10\n",
      "135/135 [==============================] - ETA: 0s - loss: 0.3012 - acc: 0.8856"
     ]
    },
    {
     "name": "stderr",
     "output_type": "stream",
     "text": [
      "WARNING:absl:Found untraced functions such as _jit_compiled_convolution_op, _jit_compiled_convolution_op, _jit_compiled_convolution_op while saving (showing 3 of 3). These functions will not be directly callable after loading.\n"
     ]
    },
    {
     "name": "stdout",
     "output_type": "stream",
     "text": [
      "INFO:tensorflow:Assets written to: .\\model1101\\mask_model-008.model\\assets\n"
     ]
    },
    {
     "name": "stderr",
     "output_type": "stream",
     "text": [
      "INFO:tensorflow:Assets written to: .\\model1101\\mask_model-008.model\\assets\n"
     ]
    },
    {
     "name": "stdout",
     "output_type": "stream",
     "text": [
      "135/135 [==============================] - 100s 737ms/step - loss: 0.3012 - acc: 0.8856 - val_loss: 0.1342 - val_acc: 0.9642\n",
      "Epoch 9/10\n",
      " 11/135 [=>............................] - ETA: 1:22 - loss: 0.2618 - acc: 0.8892"
     ]
    },
    {
     "name": "stderr",
     "output_type": "stream",
     "text": [
      "D:\\ProgramData\\Anaconda3\\envs\\tflow-gpu\\lib\\site-packages\\PIL\\Image.py:959: UserWarning: Palette images with Transparency expressed in bytes should be converted to RGBA images\n",
      "  warnings.warn(\n"
     ]
    },
    {
     "name": "stdout",
     "output_type": "stream",
     "text": [
      "135/135 [==============================] - 92s 677ms/step - loss: 0.3010 - acc: 0.8791 - val_loss: 0.1365 - val_acc: 0.9497\n",
      "Epoch 10/10\n",
      "135/135 [==============================] - ETA: 0s - loss: 0.2876 - acc: 0.8872"
     ]
    },
    {
     "name": "stderr",
     "output_type": "stream",
     "text": [
      "WARNING:absl:Found untraced functions such as _jit_compiled_convolution_op, _jit_compiled_convolution_op, _jit_compiled_convolution_op while saving (showing 3 of 3). These functions will not be directly callable after loading.\n"
     ]
    },
    {
     "name": "stdout",
     "output_type": "stream",
     "text": [
      "INFO:tensorflow:Assets written to: .\\model1101\\mask_model-010.model\\assets\n"
     ]
    },
    {
     "name": "stderr",
     "output_type": "stream",
     "text": [
      "INFO:tensorflow:Assets written to: .\\model1101\\mask_model-010.model\\assets\n"
     ]
    },
    {
     "name": "stdout",
     "output_type": "stream",
     "text": [
      "\b\b\b\b\b\b\b\b\b\b\b\b\b\b\b\b\b\b\b\b\b\b\b\b\b\b\b\b\b\b\b\b\b\b\b\b\b\b\b\b\b\b\b\b\b\b\b\b\b\b\b\b\b\b\b\b\b\b\b\b\b\b\b\b\b\b\b\b\b\b\b\b\b\b\b\b\b\b\b\r",
      "135/135 [==============================] - 99s 732ms/step - loss: 0.2876 - acc: 0.8872 - val_loss: 0.1285 - val_acc: 0.9635\n"
     ]
    }
   ],
   "source": [
    "history = model.fit(train_generator,epochs=32,validation_data=validation_generator,callbacks=[checkpoint])"
   ]
  },
  {
   "cell_type": "code",
   "execution_count": 5,
   "id": "67aee131",
   "metadata": {},
   "outputs": [
    {
     "name": "stdout",
     "output_type": "stream",
     "text": [
      "Epoch 1/32\n",
      " 37/135 [=======>......................] - ETA: 59s - loss: 0.6329 - acc: 0.6554 "
     ]
    },
    {
     "name": "stderr",
     "output_type": "stream",
     "text": [
      "D:\\ProgramData\\Anaconda3\\envs\\tflow-gpu\\lib\\site-packages\\PIL\\Image.py:959: UserWarning: Palette images with Transparency expressed in bytes should be converted to RGBA images\n",
      "  warnings.warn(\n"
     ]
    },
    {
     "name": "stdout",
     "output_type": "stream",
     "text": [
      "135/135 [==============================] - 106s 685ms/step - loss: 0.4818 - acc: 0.7817 - val_loss: 0.2298 - val_acc: 0.9308\n",
      "Epoch 2/32\n",
      "135/135 [==============================] - 92s 678ms/step - loss: 0.3641 - acc: 0.8554 - val_loss: 0.1972 - val_acc: 0.9434\n",
      "Epoch 3/32\n",
      "135/135 [==============================] - 92s 680ms/step - loss: 0.3546 - acc: 0.8551 - val_loss: 0.1896 - val_acc: 0.9484\n",
      "Epoch 4/32\n",
      "135/135 [==============================] - 91s 674ms/step - loss: 0.3334 - acc: 0.8696 - val_loss: 0.1691 - val_acc: 0.9447\n",
      "Epoch 5/32\n",
      "135/135 [==============================] - 91s 674ms/step - loss: 0.3046 - acc: 0.8796 - val_loss: 0.2310 - val_acc: 0.9289\n",
      "Epoch 6/32\n",
      "135/135 [==============================] - 92s 680ms/step - loss: 0.3046 - acc: 0.8833 - val_loss: 0.1464 - val_acc: 0.9516\n",
      "Epoch 7/32\n",
      "135/135 [==============================] - 91s 674ms/step - loss: 0.3018 - acc: 0.8828 - val_loss: 0.1473 - val_acc: 0.9535\n",
      "Epoch 8/32\n",
      "135/135 [==============================] - 91s 672ms/step - loss: 0.2769 - acc: 0.8891 - val_loss: 0.1198 - val_acc: 0.9610\n",
      "Epoch 9/32\n",
      "135/135 [==============================] - 91s 671ms/step - loss: 0.2876 - acc: 0.8870 - val_loss: 0.1144 - val_acc: 0.9597\n",
      "Epoch 10/32\n",
      "135/135 [==============================] - 91s 675ms/step - loss: 0.2786 - acc: 0.8975 - val_loss: 0.2145 - val_acc: 0.9252\n",
      "Epoch 11/32\n",
      "135/135 [==============================] - 92s 678ms/step - loss: 0.2721 - acc: 0.8956 - val_loss: 0.1094 - val_acc: 0.9642\n",
      "Epoch 12/32\n",
      "135/135 [==============================] - 91s 673ms/step - loss: 0.2629 - acc: 0.9003 - val_loss: 0.1168 - val_acc: 0.9629\n",
      "Epoch 13/32\n",
      "135/135 [==============================] - 91s 675ms/step - loss: 0.2463 - acc: 0.9014 - val_loss: 0.1056 - val_acc: 0.9635\n",
      "Epoch 14/32\n",
      "135/135 [==============================] - 92s 678ms/step - loss: 0.2509 - acc: 0.9003 - val_loss: 0.1294 - val_acc: 0.9585\n",
      "Epoch 15/32\n",
      "135/135 [==============================] - 92s 677ms/step - loss: 0.2493 - acc: 0.9054 - val_loss: 0.1350 - val_acc: 0.9497\n",
      "Epoch 16/32\n",
      "135/135 [==============================] - 91s 674ms/step - loss: 0.2501 - acc: 0.9084 - val_loss: 0.1008 - val_acc: 0.9623\n",
      "Epoch 17/32\n",
      "135/135 [==============================] - 92s 675ms/step - loss: 0.2535 - acc: 0.9021 - val_loss: 0.0922 - val_acc: 0.9711\n",
      "Epoch 18/32\n",
      "135/135 [==============================] - 91s 674ms/step - loss: 0.2328 - acc: 0.9110 - val_loss: 0.1497 - val_acc: 0.9415\n",
      "Epoch 19/32\n",
      "135/135 [==============================] - 91s 676ms/step - loss: 0.2357 - acc: 0.9130 - val_loss: 0.0977 - val_acc: 0.9648\n",
      "Epoch 20/32\n",
      "135/135 [==============================] - 92s 677ms/step - loss: 0.2300 - acc: 0.9119 - val_loss: 0.1098 - val_acc: 0.9579\n",
      "Epoch 21/32\n",
      "135/135 [==============================] - 96s 707ms/step - loss: 0.2260 - acc: 0.9105 - val_loss: 0.1750 - val_acc: 0.9346\n",
      "Epoch 22/32\n",
      "135/135 [==============================] - 93s 687ms/step - loss: 0.2136 - acc: 0.9154 - val_loss: 0.1022 - val_acc: 0.9591\n",
      "Epoch 23/32\n",
      "135/135 [==============================] - 92s 674ms/step - loss: 0.2122 - acc: 0.9172 - val_loss: 0.0968 - val_acc: 0.9610\n",
      "Epoch 24/32\n",
      "135/135 [==============================] - 92s 678ms/step - loss: 0.2048 - acc: 0.9233 - val_loss: 0.1037 - val_acc: 0.9610\n",
      "Epoch 25/32\n",
      "135/135 [==============================] - 91s 676ms/step - loss: 0.2051 - acc: 0.9279 - val_loss: 0.1067 - val_acc: 0.9610\n",
      "Epoch 26/32\n",
      "135/135 [==============================] - 92s 677ms/step - loss: 0.2047 - acc: 0.9168 - val_loss: 0.0891 - val_acc: 0.9673\n",
      "Epoch 27/32\n",
      "135/135 [==============================] - 92s 677ms/step - loss: 0.1960 - acc: 0.9226 - val_loss: 0.0838 - val_acc: 0.9686\n",
      "Epoch 28/32\n",
      "135/135 [==============================] - 91s 675ms/step - loss: 0.2246 - acc: 0.9123 - val_loss: 0.0954 - val_acc: 0.9585\n",
      "Epoch 29/32\n",
      "135/135 [==============================] - 92s 677ms/step - loss: 0.1929 - acc: 0.9263 - val_loss: 0.0893 - val_acc: 0.9723\n",
      "Epoch 30/32\n",
      "135/135 [==============================] - 88s 653ms/step - loss: 0.1950 - acc: 0.9261 - val_loss: 0.0813 - val_acc: 0.9667\n",
      "Epoch 31/32\n",
      "135/135 [==============================] - 88s 646ms/step - loss: 0.1879 - acc: 0.9302 - val_loss: 0.1429 - val_acc: 0.9585\n",
      "Epoch 32/32\n",
      "135/135 [==============================] - 89s 660ms/step - loss: 0.1955 - acc: 0.9235 - val_loss: 0.0673 - val_acc: 0.9742\n"
     ]
    }
   ],
   "source": [
    "history = model.fit(train_generator,epochs=32,validation_data=validation_generator)"
   ]
  },
  {
   "cell_type": "code",
   "execution_count": 6,
   "id": "01177a3c",
   "metadata": {},
   "outputs": [
    {
     "data": {
      "text/plain": [
       "Text(0.5, 1.0, 'Training and validation loss')"
      ]
     },
     "execution_count": 6,
     "metadata": {},
     "output_type": "execute_result"
    },
    {
     "data": {
      "image/png": "[encoded data removed]",
      "text/plain": [
       "<Figure size 432x288 with 1 Axes>"
      ]
     },
     "metadata": {
      "needs_background": "light"
     },
     "output_type": "display_data"
    },
    {
     "data": {
      "image/png": "[encoded data removed]",
      "text/plain": [
       "<Figure size 432x288 with 1 Axes>"
      ]
     },
     "metadata": {
      "needs_background": "light"
     },
     "output_type": "display_data"
    }
   ],
   "source": [
    "from matplotlib import pyplot as plt\n",
    "acc = history.history['acc']\n",
    "val_acc = history.history['val_acc']\n",
    "loss = history.history['loss']\n",
    "val_loss = history.history['val_loss']\n",
    "\n",
    "epochs = range(len(acc)) \n",
    "\n",
    "plt.plot(epochs,acc)\n",
    "\n",
    "plt.plot(epochs,val_acc)\n",
    "plt.title ('Training and validation accuracy')\n",
    "plt.figure()\n",
    "\n",
    "plt.plot(epochs,loss)\n",
    "plt.plot(epochs,val_loss)\n",
    "plt.title('Training and validation loss'   )"
   ]
  },
  {
   "cell_type": "code",
   "execution_count": 7,
   "id": "9ca5a3cc",
   "metadata": {},
   "outputs": [
    {
     "name": "stderr",
     "output_type": "stream",
     "text": [
      "WARNING:absl:Found untraced functions such as _jit_compiled_convolution_op, _jit_compiled_convolution_op, _jit_compiled_convolution_op while saving (showing 3 of 3). These functions will not be directly callable after loading.\n"
     ]
    },
    {
     "name": "stdout",
     "output_type": "stream",
     "text": [
      "INFO:tensorflow:Assets written to: mask_detector_with_cudnn_3_layers_32+epoch.model\\assets\n"
     ]
    },
    {
     "name": "stderr",
     "output_type": "stream",
     "text": [
      "INFO:tensorflow:Assets written to: mask_detector_with_cudnn_3_layers_32+epoch.model\\assets\n"
     ]
    }
   ],
   "source": [
    "model.save('mask_detector_with_cudnn_3_layers_32+epoch.model')"
   ]
  },
  {
   "cell_type": "markdown",
   "id": "43746ee2",
   "metadata": {},
   "source": [
    "### Test the results of face mask detector model using OpenCV"
   ]
  },
  {
   "cell_type": "code",
   "execution_count": 2,
   "id": "076969fe",
   "metadata": {},
   "outputs": [
    {
     "name": "stdout",
     "output_type": "stream",
     "text": [
      "1/1 [==============================] - 10s 10s/step\n",
      "1/1 [==============================] - 0s 63ms/step\n",
      "1/1 [==============================] - 0s 64ms/step\n",
      "1/1 [==============================] - 0s 44ms/step\n",
      "1/1 [==============================] - 0s 47ms/step\n",
      "1/1 [==============================] - 0s 48ms/step\n",
      "1/1 [==============================] - 0s 65ms/step\n",
      "1/1 [==============================] - 0s 50ms/step\n",
      "1/1 [==============================] - 0s 46ms/step\n",
      "1/1 [==============================] - 0s 47ms/step\n",
      "1/1 [==============================] - 0s 43ms/step\n",
      "1/1 [==============================] - 0s 64ms/step\n",
      "1/1 [==============================] - 0s 47ms/step\n",
      "1/1 [==============================] - 0s 55ms/step\n",
      "1/1 [==============================] - 0s 48ms/step\n",
      "1/1 [==============================] - 0s 48ms/step\n",
      "1/1 [==============================] - 0s 49ms/step\n",
      "1/1 [==============================] - 0s 47ms/step\n",
      "1/1 [==============================] - 0s 51ms/step\n",
      "1/1 [==============================] - 0s 49ms/step\n",
      "1/1 [==============================] - 0s 47ms/step\n",
      "1/1 [==============================] - 0s 47ms/step\n",
      "1/1 [==============================] - 0s 56ms/step\n",
      "1/1 [==============================] - 0s 47ms/step\n",
      "1/1 [==============================] - 0s 48ms/step\n",
      "1/1 [==============================] - 0s 47ms/step\n",
      "1/1 [==============================] - 0s 63ms/step\n",
      "1/1 [==============================] - 0s 48ms/step\n",
      "1/1 [==============================] - 0s 48ms/step\n",
      "1/1 [==============================] - 0s 43ms/step\n",
      "1/1 [==============================] - 0s 63ms/step\n",
      "1/1 [==============================] - 0s 44ms/step\n",
      "1/1 [==============================] - 0s 48ms/step\n",
      "1/1 [==============================] - 0s 47ms/step\n",
      "1/1 [==============================] - 0s 63ms/step\n",
      "1/1 [==============================] - 0s 48ms/step\n",
      "1/1 [==============================] - 0s 63ms/step\n",
      "1/1 [==============================] - 0s 48ms/step\n",
      "1/1 [==============================] - 0s 47ms/step\n",
      "1/1 [==============================] - 0s 47ms/step\n",
      "1/1 [==============================] - 0s 47ms/step\n",
      "1/1 [==============================] - 0s 55ms/step\n",
      "1/1 [==============================] - 0s 57ms/step\n",
      "1/1 [==============================] - 0s 49ms/step\n",
      "1/1 [==============================] - 0s 53ms/step\n",
      "1/1 [==============================] - 0s 64ms/step\n",
      "1/1 [==============================] - 0s 42ms/step\n",
      "1/1 [==============================] - 0s 65ms/step\n",
      "1/1 [==============================] - 0s 62ms/step\n",
      "1/1 [==============================] - 0s 54ms/step\n",
      "1/1 [==============================] - 0s 46ms/step\n",
      "1/1 [==============================] - 0s 47ms/step\n",
      "1/1 [==============================] - 0s 48ms/step\n",
      "1/1 [==============================] - 0s 47ms/step\n",
      "1/1 [==============================] - 0s 49ms/step\n",
      "1/1 [==============================] - 0s 71ms/step\n",
      "1/1 [==============================] - 0s 47ms/step\n",
      "1/1 [==============================] - 0s 51ms/step\n",
      "1/1 [==============================] - 0s 85ms/step\n",
      "1/1 [==============================] - 0s 52ms/step\n",
      "1/1 [==============================] - 0s 64ms/step\n",
      "1/1 [==============================] - 0s 49ms/step\n",
      "1/1 [==============================] - 0s 48ms/step\n",
      "1/1 [==============================] - 0s 53ms/step\n",
      "1/1 [==============================] - 0s 47ms/step\n",
      "1/1 [==============================] - 0s 64ms/step\n",
      "1/1 [==============================] - 0s 64ms/step\n",
      "1/1 [==============================] - 0s 45ms/step\n",
      "1/1 [==============================] - 0s 48ms/step\n",
      "1/1 [==============================] - 0s 60ms/step\n",
      "1/1 [==============================] - 0s 63ms/step\n",
      "1/1 [==============================] - 0s 63ms/step\n",
      "1/1 [==============================] - 0s 68ms/step\n",
      "1/1 [==============================] - 0s 72ms/step\n",
      "1/1 [==============================] - 0s 61ms/step\n",
      "1/1 [==============================] - 0s 54ms/step\n",
      "1/1 [==============================] - 0s 63ms/step\n",
      "1/1 [==============================] - 0s 52ms/step\n",
      "1/1 [==============================] - 0s 56ms/step\n",
      "1/1 [==============================] - 0s 52ms/step\n"
     ]
    }
   ],
   "source": [
    "import cv2\n",
    "import numpy as np\n",
    "from keras.models import load_model\n",
    "model=load_model(\"./mask_detector_with_cudnn_3_layers_32+epoch.model\")\n",
    "\n",
    "results={0:'without mask',1:'mask'}\n",
    "GR_dict={0:(0,0,255),1:(0,255,0)}\n",
    "\n",
    "rect_size = 4\n",
    "cap = cv2.VideoCapture(0) \n",
    "\n",
    "\n",
    "#haarcascade = cv2.CascadeClassifier('/home/user_name/.local/lib/python3.6/site-packages/cv2/data/haarcascade_frontalface_default.xml')\n",
    "haarcascade = cv2.CascadeClassifier(cv2.data.haarcascades + 'haarcascade_frontalface_default.xml')\n",
    "while True:\n",
    "    (rval, im) = cap.read()\n",
    "    im=cv2.flip(im,1,1) \n",
    "\n",
    "    \n",
    "    rerect_size = cv2.resize(im, (im.shape[1] // rect_size, im.shape[0] // rect_size))\n",
    "    faces = haarcascade.detectMultiScale(rerect_size)\n",
    "    for f in faces:\n",
    "        (x, y, w, h) = [v * rect_size for v in f] \n",
    "        \n",
    "        face_img = im[y:y+h, x:x+w]\n",
    "        rerect_sized=cv2.resize(face_img,(150,150))\n",
    "        normalized=rerect_sized/255.0\n",
    "        reshaped=np.reshape(normalized,(1,150,150,3))\n",
    "        reshaped = np.vstack([reshaped])\n",
    "        result=model.predict(reshaped)\n",
    "\n",
    "        \n",
    "        label=np.argmax(result,axis=1)[0]\n",
    "      \n",
    "        cv2.rectangle(im,(x,y),(x+w,y+h),GR_dict[label],2)\n",
    "        cv2.rectangle(im,(x,y-40),(x+w,y),GR_dict[label],-1)\n",
    "        cv2.putText(im, results[label], (x, y-10),cv2.FONT_HERSHEY_SIMPLEX,0.8,(255,255,255),2)\n",
    "\n",
    "    cv2.imshow('LIVE', im)\n",
    "    key = cv2.waitKey(10)\n",
    "    \n",
    "    if key == 27: \n",
    "        break\n",
    "\n",
    "cap.release()\n",
    "\n",
    "cv2.destroyAllWindows()"
   ]
  },
  {
   "cell_type": "code",
   "execution_count": null,
   "id": "f1bc74ae",
   "metadata": {},
   "outputs": [],
   "source": []
  }
 ],
 "metadata": {
  "kernelspec": {
   "display_name": "Python 3 (ipykernel)",
   "language": "python",
   "name": "python3"
  },
  "language_info": {
   "codemirror_mode": {
    "name": "ipython",
    "version": 3
   },
   "file_extension": ".py",
   "mimetype": "text/x-python",
   "name": "python",
   "nbconvert_exporter": "python",
   "pygments_lexer": "ipython3",
   "version": "3.8.13"
  }
 },
 "nbformat": 4,
 "nbformat_minor": 5
}
